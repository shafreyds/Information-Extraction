{
  "nbformat": 4,
  "nbformat_minor": 0,
  "metadata": {
    "colab": {
      "provenance": []
    },
    "kernelspec": {
      "name": "python3",
      "display_name": "Python 3"
    },
    "language_info": {
      "name": "python"
    }
  },
  "cells": [
    {
      "cell_type": "code",
      "source": [
        "import re\n",
        "\n",
        "# Sample text\n",
        "text = \"John Doe is a software engineer at ABC Corp. His email address is john.doe@abc.com.\"\n",
        "\n",
        "# Regular expressions to extract information\n",
        "name_regex = r\"([A-Z][a-z]+ [A-Z][a-z]+)\"\n",
        "job_regex = r\"([a-z]+ [a-z]+ at [A-Z][A-Z][A-Z] [A-Z][a-z]+)\"\n",
        "email_regex = r\"([a-zA-Z0-9_.+-]+@[a-zA-Z0-9-]+\\.[a-zA-Z0-9-.]+)\"\n",
        "\n",
        "# Extracting information using regular expressions\n",
        "name_match = re.search(name_regex, text)\n",
        "job_match = re.search(job_regex, text)\n",
        "email_match = re.search(email_regex, text)\n",
        "\n",
        "# Printing the extracted information\n",
        "if name_match:\n",
        "    name = name_match.group(0)\n",
        "    print(\"Name:\", name)\n",
        "\n",
        "if job_match:\n",
        "    job = job_match.group(0)\n",
        "    print(\"Job:\", job)\n",
        "\n",
        "if email_match:\n",
        "    email = email_match.group(0)\n",
        "    print(\"Email:\", email)\n"
      ],
      "metadata": {
        "colab": {
          "base_uri": "https://localhost:8080/"
        },
        "id": "NWSyahcu7d-N",
        "outputId": "2795c63b-84a9-4d08-ded2-f01c940a156e"
      },
      "execution_count": 20,
      "outputs": [
        {
          "output_type": "stream",
          "name": "stdout",
          "text": [
            "Name: John Doe\n",
            "Job: software engineer at ABC Corp\n",
            "Email: john.doe@abc.com.\n"
          ]
        }
      ]
    },
    {
      "cell_type": "code",
      "source": [],
      "metadata": {
        "id": "b6Xzm03DCkeW"
      },
      "execution_count": null,
      "outputs": []
    }
  ]
}